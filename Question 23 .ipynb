{
 "cells": [
  {
   "cell_type": "markdown",
   "id": "d145a909",
   "metadata": {},
   "source": [
    "# Develop a recursive function tough() that takes two nonnegative integer arguments and outputs a pattern as shown below. Hint: The first argument represents the indentation of the pattern, where the second argument -- always a pattern of 2 indicates the number *s in the longest line of *s in the pattern\n",
    "\n"
   ]
  },
  {
   "cell_type": "code",
   "execution_count": 5,
   "id": "2b652093",
   "metadata": {},
   "outputs": [],
   "source": [
    "def Pattern(indentation, stars):\n",
    "    for i in range(stars, 0, -1):  \n",
    "        print(' ' * indentation + '*' * i) "
   ]
  },
  {
   "cell_type": "markdown",
   "id": "10d63746",
   "metadata": {},
   "source": [
    "Lets take different Examples using different input values"
   ]
  },
  {
   "cell_type": "code",
   "execution_count": 4,
   "id": "d1f8c7bd",
   "metadata": {},
   "outputs": [
    {
     "name": "stdout",
     "output_type": "stream",
     "text": [
      "*****\n",
      "****\n",
      "***\n",
      "**\n",
      "*\n"
     ]
    }
   ],
   "source": [
    "Pattern(0, 5)\n"
   ]
  },
  {
   "cell_type": "code",
   "execution_count": 7,
   "id": "ec9b3bb3",
   "metadata": {},
   "outputs": [
    {
     "name": "stdout",
     "output_type": "stream",
     "text": [
      "     *****\n",
      "     ****\n",
      "     ***\n",
      "     **\n",
      "     *\n"
     ]
    }
   ],
   "source": [
    "Pattern(5, 5)\n"
   ]
  },
  {
   "cell_type": "code",
   "execution_count": 8,
   "id": "528a86f1",
   "metadata": {},
   "outputs": [
    {
     "name": "stdout",
     "output_type": "stream",
     "text": [
      "      *******\n",
      "      ******\n",
      "      *****\n",
      "      ****\n",
      "      ***\n",
      "      **\n",
      "      *\n"
     ]
    }
   ],
   "source": [
    "Pattern(6,7)\n"
   ]
  },
  {
   "cell_type": "code",
   "execution_count": 11,
   "id": "d537e6a7",
   "metadata": {},
   "outputs": [
    {
     "name": "stdout",
     "output_type": "stream",
     "text": [
      "    ******\n",
      "    *****\n",
      "    ****\n",
      "    ***\n",
      "    **\n",
      "    *\n"
     ]
    }
   ],
   "source": [
    "Pattern(4,6)\n"
   ]
  },
  {
   "cell_type": "code",
   "execution_count": 12,
   "id": "fe9aeca9",
   "metadata": {},
   "outputs": [],
   "source": [
    "Pattern(0, 0)\n"
   ]
  }
 ],
 "metadata": {
  "kernelspec": {
   "display_name": "Python 3 (ipykernel)",
   "language": "python",
   "name": "python3"
  },
  "language_info": {
   "codemirror_mode": {
    "name": "ipython",
    "version": 3
   },
   "file_extension": ".py",
   "mimetype": "text/x-python",
   "name": "python",
   "nbconvert_exporter": "python",
   "pygments_lexer": "ipython3",
   "version": "3.11.1"
  }
 },
 "nbformat": 4,
 "nbformat_minor": 5
}
