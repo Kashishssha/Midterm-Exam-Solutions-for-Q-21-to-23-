{
 "cells": [
  {
   "cell_type": "markdown",
   "id": "41490ebc",
   "metadata": {},
   "source": [
    "# In a jupyter notebook solve the following question. Please upload the notebook to GitHub and provide the link submission box below.\n",
    "\n",
    " \n",
    "\n",
    "__int()__: Constructor that takes as input a pair of Point objects that represent the ends points of the line segment\n",
    "\n",
    "Length():: returns the length if the segment \n",
    "\n",
    "Slope() returns the slope of the segment of none if the slope is unbounded "
   ]
  },
  {
   "cell_type": "code",
   "execution_count": 7,
   "id": "8cb1a6c7",
   "metadata": {},
   "outputs": [
    {
     "name": "stdout",
     "output_type": "stream",
     "text": [
      "x1: 4\n",
      "y1: 6\n",
      "x2: 8\n",
      "y2: 10\n",
      "Length: 5.656854249492381\n",
      "Slope: 1.0\n"
     ]
    }
   ],
   "source": [
    "import math \n",
    "\n",
    "class Point:\n",
    "    def __init__(self, x=0, y=0):\n",
    "        self.x = x\n",
    "        self.y = y\n",
    "\n",
    "class Segment:\n",
    "    def __init__(self, p1, p2):\n",
    "        self.p1 = p1\n",
    "        self.p2 = p2\n",
    "    \n",
    "    def length(self):\n",
    "        return math.sqrt((self.p2.x - self.p1.x)**2 + (self.p2.y - self.p1.y)**2)\n",
    "    \n",
    "    def slope(self):\n",
    "        if self.p2.x - self.p1.x == 0:\n",
    "            return None  \n",
    "        return (self.p2.y - self.p1.y) / (self.p2.x - self.p1.x)\n",
    "\n",
    "#Asking input from the user       \n",
    "x1 = float(input(\"x1: \"))\n",
    "y1 = float(input(\"y1: \"))\n",
    "x2 = float(input(\"x2: \"))\n",
    "y2 = float(input(\"y2: \"))\n",
    "\n",
    "p1 = Point(x1, y1)\n",
    "p2 = Point(x2, y2)\n",
    "s = Segment(p1, p2)\n",
    "\n",
    "#Printing the result\n",
    "print(\"Length:\", s.length())\n",
    "print(\"Slope:\", s.slope())\n",
    "                  "
   ]
  }
 ],
 "metadata": {
  "kernelspec": {
   "display_name": "Python 3 (ipykernel)",
   "language": "python",
   "name": "python3"
  },
  "language_info": {
   "codemirror_mode": {
    "name": "ipython",
    "version": 3
   },
   "file_extension": ".py",
   "mimetype": "text/x-python",
   "name": "python",
   "nbconvert_exporter": "python",
   "pygments_lexer": "ipython3",
   "version": "3.11.1"
  }
 },
 "nbformat": 4,
 "nbformat_minor": 5
}
