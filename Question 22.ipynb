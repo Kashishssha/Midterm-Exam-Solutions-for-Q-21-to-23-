{
 "cells": [
  {
   "cell_type": "markdown",
   "id": "c633b397",
   "metadata": {},
   "source": [
    "# Using python"
   ]
  },
  {
   "cell_type": "code",
   "execution_count": 1,
   "id": "20e8b5ae",
   "metadata": {},
   "outputs": [
    {
     "name": "stdout",
     "output_type": "stream",
     "text": [
      "   id\n",
      "1   2\n",
      "3   4\n"
     ]
    }
   ],
   "source": [
    "import pandas as pd\n",
    "\n",
    "# Creating the Weather DataFrame\n",
    "weather_data = {'id': [1, 2, 3, 4],\n",
    "                'date': ['2015-01-01', '2015-01-02', '2015-01-03', '2015-01-04'],\n",
    "                'temperature': [10, 25, 20, 30]}\n",
    "weather_df = pd.DataFrame(weather_data)\n",
    "\n",
    "weather_df['date'] = pd.to_datetime(weather_df['date'])\n",
    "\n",
    "weather_df['p_temperature'] = weather_df['temperature'].shift(1)\n",
    "\n",
    "# Filter IDs where temperature is higher than previous day\n",
    "result_df = weather_df[weather_df['temperature'] > weather_df['p_temperature']]\n",
    "\n",
    "# Output the result\n",
    "print(result_df[['id']])\n"
   ]
  },
  {
   "cell_type": "markdown",
   "id": "797b06d0",
   "metadata": {},
   "source": [
    "# Using  SQL"
   ]
  },
  {
   "cell_type": "code",
   "execution_count": 9,
   "id": "eb33e439",
   "metadata": {},
   "outputs": [
    {
     "name": "stdout",
     "output_type": "stream",
     "text": [
      "IDs with higher temperatures compared to their previous dates:\n",
      "2\n",
      "4\n"
     ]
    }
   ],
   "source": [
    "import sqlite3\n",
    "\n",
    "conn = sqlite3.connect(':memory:')  \n",
    "\n",
    "# Creating a cursor object to execute SQL commands\n",
    "cursor = conn.cursor()\n",
    "\n",
    "# Creating the Weather table\n",
    "cursor.execute('''\n",
    "    CREATE TABLE Weather (\n",
    "        id INTEGER PRIMARY KEY,\n",
    "        recordDate DATE,\n",
    "        temperature INTEGER\n",
    "    )\n",
    "''')\n",
    "\n",
    "# Inserting data into the Weather table\n",
    "cursor.executemany('''\n",
    "    INSERT INTO Weather (id, recordDate, temperature)\n",
    "    VALUES (?, ?, ?)\n",
    "''', [\n",
    "    (1, '2015-01-01', 10),\n",
    "    (2, '2015-01-02', 25),\n",
    "    (3, '2015-01-03', 20),\n",
    "    (4, '2015-01-04', 30)\n",
    "])\n",
    "\n",
    "cursor.execute('''\n",
    "    SELECT w.id\n",
    "    FROM Weather w\n",
    "    JOIN Weather w_prev ON DATE(w.recordDate, '-1 day') = w_prev.recordDate\n",
    "    WHERE w.temperature > w_prev.temperature;\n",
    "''')\n",
    "\n",
    "result = cursor.fetchall()\n",
    "\n",
    "# Closing the connection\n",
    "conn.close()\n",
    "\n",
    "print(\"IDs with higher temperatures compared to their previous dates:\")\n",
    "for row in result:\n",
    "    print(row[0])\n"
   ]
  },
  {
   "cell_type": "code",
   "execution_count": null,
   "id": "3f7a797d",
   "metadata": {},
   "outputs": [],
   "source": []
  }
 ],
 "metadata": {
  "kernelspec": {
   "display_name": "Python 3 (ipykernel)",
   "language": "python",
   "name": "python3"
  },
  "language_info": {
   "codemirror_mode": {
    "name": "ipython",
    "version": 3
   },
   "file_extension": ".py",
   "mimetype": "text/x-python",
   "name": "python",
   "nbconvert_exporter": "python",
   "pygments_lexer": "ipython3",
   "version": "3.11.1"
  }
 },
 "nbformat": 4,
 "nbformat_minor": 5
}
